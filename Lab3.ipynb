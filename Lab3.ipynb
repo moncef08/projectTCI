{
 "cells": [
  {
   "cell_type": "markdown",
   "metadata": {},
   "source": [
    "# TP Théorie et Codage de l'information \n",
    "\n",
    "## Moncef REJEB SFAR \n",
    "\n",
    "## Lab 3\n",
    "\n",
    "### Question 1\n",
    "Pour cette question, j'ai crée deux vecteurs suivant une distribution normale (par exemple) de taille 30\n",
    "\n",
    "Le but est de calculer l'information mutuelle entre ces deux vecteurs.\n",
    "\n",
    "Pour ce faire, j'ai crée une fonction CalculInformationMutuelle(x,y) qui prend en parametre deux vecteurs et qui calcule l'information mutuelle. Voici les étapes de calcul : \n",
    "\n",
    "Etape 1 : calcul de Px et Py (probas marginales)\n",
    "\n",
    "Etape 2 : calcul de pxy = p(x,y) (probas conjointes)\n",
    "\n",
    "Etape 3 : calcul de l'information mutuelle à l'aide des proba conjointes et marginales "
   ]
  },
  {
   "cell_type": "code",
   "execution_count": 10,
   "metadata": {},
   "outputs": [
    {
     "name": "stdout",
     "output_type": "stream",
     "text": [
      "Voici le premier vecteur : \n",
      " [-0.13017522  0.00771475  0.38871246 -0.17882326  1.05971561 -0.59640571\n",
      " -0.67013064 -1.12031885 -0.66110224  0.76039386 -0.02639825  0.16545238\n",
      " -0.07335737  1.13041264  1.70128355 -0.2394319   0.9047572  -1.55286072\n",
      " -0.46851503  1.18920449  0.56122563 -1.77945752  0.71636363 -0.99478215\n",
      " -0.07439356 -1.78407895  1.15663707 -3.06136087 -1.63867647 -0.60142215]\n",
      "Voici le second vecteur : \n",
      " [-0.05361082 -1.20028043 -0.87144391 -0.47848517 -0.15037591 -1.97743228\n",
      "  0.6147062  -0.29802635  0.89967718 -1.52912873  0.06216257  0.11071189\n",
      " -0.98456573  0.25633052  0.19632759 -0.51256163  1.09997539  0.16286619\n",
      " -0.11875617 -0.68013014 -2.62682661 -0.52310142 -1.84262679  0.25614627\n",
      "  0.95433841 -0.58945944  1.84993375 -1.03029531  0.48545439 -1.81159637]\n",
      "Voici l'information mutuelle entre ces deux vecteurs :\n",
      "\n"
     ]
    },
    {
     "data": {
      "text/plain": [
       "4.906890595608519"
      ]
     },
     "execution_count": 10,
     "metadata": {},
     "output_type": "execute_result"
    }
   ],
   "source": [
    "from sklearn import metrics\n",
    "import random\n",
    "import numpy as np\n",
    "\n",
    "s1 = np.random.normal(0, 1, 30)\n",
    "s2 = np.random.normal(0, 1, 30)\n",
    "\n",
    "def CalculInformationMutuelle(x, y):\n",
    "    sum_mi = 0.0\n",
    "    x_value_list = np.unique(x)\n",
    "    y_value_list = np.unique(y)\n",
    "    Px = np.array([ len(x[x==xval])/float(len(x)) for xval in x_value_list ]) #P(x)\n",
    "    Py = np.array([ len(y[y==yval])/float(len(y)) for yval in y_value_list ]) #P(y)\n",
    "    for i in range(len(x_value_list)):\n",
    "        if Px[i] ==0.:\n",
    "            continue\n",
    "        sy = y[x == x_value_list[i]]\n",
    "        if len(sy)== 0:\n",
    "            continue\n",
    "        pxy = np.array([len(sy[sy==yval])/float(len(y))  for yval in y_value_list]) #p(x,y)\n",
    "        t = pxy[Py>0.]/Py[Py>0.] /Px[i] # log(P(x,y)/( P(x)*P(y))\n",
    "        sum_mi += sum(pxy[t>0]*np.log2( t[t>0]) ) # sum ( P(x,y)* log(P(x,y)/( P(x)*P(y)) )\n",
    "    return sum_mi\n",
    "\n",
    "print(\"Voici le premier vecteur : \\n\",s1)\n",
    "print(\"Voici le second vecteur : \\n\",s2)\n",
    "print(\"Voici l'information mutuelle entre ces deux vecteurs :\\n\")\n",
    "CalculInformationMutuelle(s1,s2)\n"
   ]
  },
  {
   "cell_type": "markdown",
   "metadata": {},
   "source": [
    "### Question 2\n",
    "Maintenant, on va appliquer ce qui a été fait en question 1 sur l'image du lab 2.\n",
    "\n",
    "Pour ce faire, on va transformer l'image en matrice de pixels. \n",
    "Chaque pixel est caractérisé par 3 valeurs ( R G B ). \n",
    "On peut donc imaginer la matrice sous forme de 3 matrices superposées (chacune représentant 1 couleur) et on va appliquer les resultats de la question 1 sur les matrices deux par deux  pour trouver : \n",
    "\n",
    "I(R,G)  et  I(R,B)  et  I(B,G)"
   ]
  },
  {
   "cell_type": "code",
   "execution_count": 26,
   "metadata": {},
   "outputs": [
    {
     "name": "stdout",
     "output_type": "stream",
     "text": [
      "Téléchargement de la photo sur laquelle on va travailler\n"
     ]
    },
    {
     "data": {
      "image/jpeg": "[encoded data removed]",
      "text/plain": [
       "<IPython.core.display.Image object>"
      ]
     },
     "execution_count": 26,
     "metadata": {},
     "output_type": "execute_result"
    }
   ],
   "source": [
    "#Lab 3\n",
    "#Question 2\n",
    "from IPython.display import Image\n",
    "print(\"Téléchargement de la photo sur laquelle on va travailler\")\n",
    "Image(\"bird_small.jpg\")"
   ]
  },
  {
   "cell_type": "code",
   "execution_count": 6,
   "metadata": {},
   "outputs": [
    {
     "name": "stdout",
     "output_type": "stream",
     "text": [
      "A titre d'exemple voici le premier pixel de l'image et le premier element de chacune des 3 matrices\n",
      "[219 180 103]\n",
      "\n",
      "matrice rouge : 219\n",
      "matrice verte : 180\n",
      "matrice bleue : 103\n",
      "\n",
      "Calculons maintenant l'information mutuelle entre les matrices à l'aide de la fonction de la question 1\n",
      "\n",
      "Voici I(R,G) =  3.213008599719743\n",
      "\n",
      "Voici I(B,G) =  2.874391980992868\n",
      "\n",
      "Voici I(R,B) =  2.6495812228897795\n",
      "\n",
      "Remarque : On voit que la pair Rouge/Bleu partage la plus petite information mutuelle\n"
     ]
    }
   ],
   "source": [
    "def CalculInformationMutuelle(x, y):\n",
    "    sum_mi = 0.0\n",
    "    x_value_list = np.unique(x)\n",
    "    y_value_list = np.unique(y)\n",
    "    Px = np.array([ len(x[x==xval])/float(len(x)) for xval in x_value_list ]) #P(x)\n",
    "    Py = np.array([ len(y[y==yval])/float(len(y)) for yval in y_value_list ]) #P(y)\n",
    "    for i in range(len(x_value_list)):\n",
    "        if Px[i] ==0.:\n",
    "            continue\n",
    "        sy = y[x == x_value_list[i]]\n",
    "        if len(sy)== 0:\n",
    "            continue\n",
    "        pxy = np.array([len(sy[sy==yval])/float(len(y))  for yval in y_value_list]) #p(x,y)\n",
    "        t = pxy[Py>0.]/Py[Py>0.] /Px[i] # log(P(x,y)/( P(x)*P(y))\n",
    "        sum_mi += sum(pxy[t>0]*np.log2( t[t>0]) ) # sum ( P(x,y)* log(P(x,y)/( P(x)*P(y)) )\n",
    "    return sum_mi\n",
    "\n",
    "\n",
    "import numpy as np\n",
    "from PIL import Image\n",
    "from scipy import *\n",
    "image = Image.open('bird_small.tiff')\n",
    "image.save('bird_small.jpg')\n",
    "pix = np.array(image)\n",
    "MatriceDesRouges=[]\n",
    "MatriceDesVerts=[]\n",
    "MatriceDesBleus=[]\n",
    "for i in range(pix.shape[0]):\n",
    "    for j in range(pix.shape[1]):\n",
    "        MatriceDesRouges.append(pix[i][j][0])\n",
    "        MatriceDesVerts.append(pix[i][j][1])\n",
    "        MatriceDesBleus.append(pix[i][j][2])\n",
    "print(\"A titre d'exemple voici le premier pixel de l'image et le premier element de chacune des 3 matrices\")\n",
    "print(pix[0][0])\n",
    "print(\"\\nmatrice rouge :\",MatriceDesRouges[0])\n",
    "print(\"matrice verte :\",MatriceDesVerts[0])\n",
    "print(\"matrice bleue :\",MatriceDesBleus[0])\n",
    "\n",
    "print(\"\\nCalculons maintenant l'information mutuelle entre les matrices à l'aide de la fonction de la question 1\")\n",
    "\n",
    "print(\"\\nVoici I(R,G) = \",CalculInformationMutuelle(np.array(MatriceDesRouges),np.array(MatriceDesVerts)))\n",
    "print(\"\\nVoici I(B,G) = \",CalculInformationMutuelle(np.array(MatriceDesBleus),np.array(MatriceDesVerts)))\n",
    "print(\"\\nVoici I(R,B) = \",CalculInformationMutuelle(np.array(MatriceDesRouges),np.array(MatriceDesBleus)))\n",
    "\n",
    "print(\"\\nRemarque : On voit que la pair Rouge/Bleu partage la plus petite information mutuelle\")"
   ]
  },
  {
   "cell_type": "markdown",
   "metadata": {},
   "source": [
    "### Question 3\n",
    "Maintenant, on va appliquer ce qui a été fait sur l'image du lab 2.\n",
    "\n",
    "D'abord on va refaire ce qu'on a fait dans la question 2, mais cette fois-ci, on va appliquer la fonction calculInformationMutuelle(x,y) sur  les matrices Rouge Bleu Verte et le cluster des labels calculé dans le lab 2."
   ]
  },
  {
   "cell_type": "code",
   "execution_count": 8,
   "metadata": {},
   "outputs": [
    {
     "name": "stdout",
     "output_type": "stream",
     "text": [
      "Predicting color indices on the full image (k-means)\n",
      "\n",
      "Voici I(R,Labels) =  2.4170687355824048\n",
      "\n",
      "Voici I(G,Labels) =  2.5560699581878468\n",
      "\n",
      "Voici I(B,Labels) =  2.1642062879212998\n"
     ]
    }
   ],
   "source": [
    "def CalculInformationMutuelle(x, y):\n",
    "    sum_mi = 0.0\n",
    "    x_value_list = np.unique(x)\n",
    "    y_value_list = np.unique(y)\n",
    "    Px = np.array([ len(x[x==xval])/float(len(x)) for xval in x_value_list ]) #P(x)\n",
    "    Py = np.array([ len(y[y==yval])/float(len(y)) for yval in y_value_list ]) #P(y)\n",
    "    for i in range(len(x_value_list)):\n",
    "        if Px[i] ==0.:\n",
    "            continue\n",
    "        sy = y[x == x_value_list[i]]\n",
    "        if len(sy)== 0:\n",
    "            continue\n",
    "        pxy = np.array([len(sy[sy==yval])/float(len(y))  for yval in y_value_list]) #p(x,y)\n",
    "        t = pxy[Py>0.]/Py[Py>0.] /Px[i] # log(P(x,y)/( P(x)*P(y))\n",
    "        sum_mi += sum(pxy[t>0]*np.log2( t[t>0]) ) # sum ( P(x,y)* log(P(x,y)/( P(x)*P(y)) )\n",
    "    return sum_mi\n",
    "\n",
    "import numpy as np\n",
    "from PIL import Image\n",
    "import matplotlib.pyplot as plt\n",
    "from sklearn.cluster import KMeans\n",
    "from sklearn.metrics import pairwise_distances_argmin\n",
    "from sklearn.datasets import load_sample_image\n",
    "from sklearn.utils import shuffle\n",
    "\n",
    "n_colors = 16\n",
    "MatriceDesRouges=[]\n",
    "MatriceDesVerts=[]\n",
    "MatriceDesBleus=[]\n",
    "image = Image.open('bird_small.jpg')\n",
    "\n",
    "image = np.array(image, dtype=np.float64) / 255\n",
    "for i in range(image.shape[0]):\n",
    "    for j in range(image.shape[1]):\n",
    "        MatriceDesRouges.append(image[i][j][0])\n",
    "        MatriceDesVerts.append(image[i][j][1])\n",
    "        MatriceDesBleus.append(image[i][j][2])\n",
    "        \n",
    "w, h, d = original_shape = tuple(image.shape)\n",
    "assert d == 3\n",
    "image_array = np.reshape(image, (w * h, d))\n",
    "\n",
    "image_array_sample = shuffle(image_array, random_state=0)[:1000]\n",
    "kmeans = KMeans(n_clusters=n_colors, random_state=0).fit(image_array_sample)\n",
    "# Get labels for all points\n",
    "print(\"Predicting color indices on the full image (k-means)\")\n",
    "labels = kmeans.predict(image_array)\n",
    "print(\"\\nVoici I(R,Labels) = \",CalculInformationMutuelle(np.array(MatriceDesRouges),labels))\n",
    "print(\"\\nVoici I(G,Labels) = \",CalculInformationMutuelle(np.array(MatriceDesVerts),labels))\n",
    "print(\"\\nVoici I(B,Labels) = \",CalculInformationMutuelle(np.array(MatriceDesBleus),labels))\n"
   ]
  },
  {
   "cell_type": "code",
   "execution_count": null,
   "metadata": {},
   "outputs": [],
   "source": []
  },
  {
   "cell_type": "code",
   "execution_count": null,
   "metadata": {},
   "outputs": [],
   "source": []
  },
  {
   "cell_type": "code",
   "execution_count": null,
   "metadata": {},
   "outputs": [],
   "source": []
  }
 ],
 "metadata": {
  "kernelspec": {
   "display_name": "Python 3",
   "language": "python",
   "name": "python3"
  },
  "language_info": {
   "codemirror_mode": {
    "name": "ipython",
    "version": 3
   },
   "file_extension": ".py",
   "mimetype": "text/x-python",
   "name": "python",
   "nbconvert_exporter": "python",
   "pygments_lexer": "ipython3",
   "version": "3.7.4"
  }
 },
 "nbformat": 4,
 "nbformat_minor": 2
}
